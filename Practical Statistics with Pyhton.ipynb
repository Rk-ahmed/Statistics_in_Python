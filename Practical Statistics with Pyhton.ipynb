{
 "cells": [
  {
   "cell_type": "markdown",
   "metadata": {},
   "source": [
    "DOCUMENTED BY RAKIB AHMED\n",
    "\n",
    "Statistics:\n",
    "Statistics is a branch of mathematics concerned with collecting, analyzing, interpreting, presenting, and organizing data.\n",
    "\n",
    "Types of statistics include Descriptive statistics, which summarize and describe features of a dataset, and Inferential statistics, which involve making inferences or predictions about a population based on a sample."
   ]
  },
  {
   "cell_type": "markdown",
   "metadata": {},
   "source": [
    "Here we'll learn some descriptive statistics term and how to use them by using Pyhton."
   ]
  },
  {
   "cell_type": "markdown",
   "metadata": {},
   "source": [
    "Some Important Libraries:\n",
    "\n",
    "1. `pandas`: Data manipulation and analysis, e.g., loading datasets, performing data transformations.\n",
    "\n",
    "2. `scipy.stats.trim_mean`: Calculating the trimmed mean, which removes a specified proportion of outliers from a dataset.\n",
    "\n",
    "3. `numpy`: Mathematical operations on arrays and matrices, commonly used for numerical computing.\n",
    "\n",
    "4. `matplotlib.pyplot`: Data visualization, particularly plotting graphs and charts.\n",
    "\n",
    "5. `seaborn`: Statistical data visualization, providing a high-level interface for drawing attractive and informative statistical graphics."
   ]
  },
  {
   "cell_type": "code",
   "execution_count": 23,
   "metadata": {},
   "outputs": [],
   "source": [
    "import pandas as pd \n",
    "from scipy.stats import trim_mean\n",
    "import numpy as np\n",
    "import matplotlib.pyplot as plt \n",
    "import seaborn as sns "
   ]
  },
  {
   "cell_type": "markdown",
   "metadata": {},
   "source": [
    "We Create a Example Dataset for our Analysis."
   ]
  },
  {
   "cell_type": "code",
   "execution_count": 24,
   "metadata": {},
   "outputs": [],
   "source": [
    "#Create Dataframe \n",
    "State = {\"State\":[\"Alabama\", \"Alaska\", \"Arizona\",\"Arkansas\",\"California\",\"Colorado\",\"Connecticut\",\"Delaware\"],\n",
    "\"Population\":[4779736,710231,6392017,2915918,37253956,5029196,3574097,897934],\n",
    "\"Murder rate\": [5.7,5.6,4.7,5.6,4.4,2.8,2.4,5.8],\n",
    "\"Abbreviation\":[\"AL\",\"AK\",\"AZ\",\"AR\",\"CA\",\"CO\",\"CT\",\"DE\"]\n",
    "}"
   ]
  },
  {
   "cell_type": "code",
   "execution_count": 25,
   "metadata": {},
   "outputs": [
    {
     "name": "stdout",
     "output_type": "stream",
     "text": [
      "         State  Population  Murder rate Abbreviation\n",
      "0      Alabama     4779736          5.7           AL\n",
      "1       Alaska      710231          5.6           AK\n",
      "2      Arizona     6392017          4.7           AZ\n",
      "3     Arkansas     2915918          5.6           AR\n",
      "4   California    37253956          4.4           CA\n",
      "5     Colorado     5029196          2.8           CO\n",
      "6  Connecticut     3574097          2.4           CT\n",
      "7     Delaware      897934          5.8           DE\n"
     ]
    }
   ],
   "source": [
    "state = pd.DataFrame(State)\n",
    "print(state)"
   ]
  },
  {
   "cell_type": "markdown",
   "metadata": {},
   "source": [
    "The mean is the average of a set of numbers, used to summarize central tendency or the typical value within a dataset."
   ]
  },
  {
   "cell_type": "code",
   "execution_count": 26,
   "metadata": {},
   "outputs": [
    {
     "name": "stdout",
     "output_type": "stream",
     "text": [
      "Mean: 7694135.625\n"
     ]
    }
   ],
   "source": [
    "#Mean \n",
    "print(\"Mean:\",state['Population'].mean())"
   ]
  },
  {
   "cell_type": "markdown",
   "metadata": {},
   "source": [
    "Trimmed mean is a statistical measure that calculates the mean after removing a specified proportion of extreme values, useful for reducing the influence of outliers on the average."
   ]
  },
  {
   "cell_type": "code",
   "execution_count": 27,
   "metadata": {},
   "outputs": [
    {
     "name": "stdout",
     "output_type": "stream",
     "text": [
      "Trimmed_mean: 7694135.625\n"
     ]
    }
   ],
   "source": [
    "#Trimmed_mean\n",
    "print(\"Trimmed_mean:\", trim_mean(state['Population'],0.1))"
   ]
  },
  {
   "cell_type": "markdown",
   "metadata": {},
   "source": [
    "The median is the middle value of a dataset, used to describe the central tendency and is less sensitive to outliers than the mean."
   ]
  },
  {
   "cell_type": "code",
   "execution_count": 28,
   "metadata": {},
   "outputs": [
    {
     "name": "stdout",
     "output_type": "stream",
     "text": [
      "Median: 4176916.5\n"
     ]
    }
   ],
   "source": [
    "#median \n",
    "print(\"Median:\", state['Population'].median())"
   ]
  },
  {
   "cell_type": "markdown",
   "metadata": {},
   "source": [
    "Mode is the value that appears most frequently in a dataset, used to identify the most common observation or category."
   ]
  },
  {
   "cell_type": "code",
   "execution_count": 29,
   "metadata": {},
   "outputs": [
    {
     "name": "stdout",
     "output_type": "stream",
     "text": [
      "Mode: 0      710231\n",
      "1      897934\n",
      "2     2915918\n",
      "3     3574097\n",
      "4     4779736\n",
      "5     5029196\n",
      "6     6392017\n",
      "7    37253956\n",
      "Name: Population, dtype: int64\n"
     ]
    }
   ],
   "source": [
    "#mode\n",
    "print(\"Mode:\",state['Population'].mode())"
   ]
  },
  {
   "cell_type": "markdown",
   "metadata": {},
   "source": [
    "A quantile is a value that divides a dataset into equal-sized parts, used to understand the distribution and variability of the data."
   ]
  },
  {
   "cell_type": "code",
   "execution_count": 30,
   "metadata": {},
   "outputs": [
    {
     "name": "stdout",
     "output_type": "stream",
     "text": [
      "Quantile: 0.25    2411422.00\n",
      "0.50    4176916.50\n",
      "0.75    5369901.25\n",
      "Name: Population, dtype: float64\n"
     ]
    }
   ],
   "source": [
    "#quantile\n",
    "print(\"Quantile:\", state['Population'].quantile([0.25,0.5,0.75]))"
   ]
  },
  {
   "cell_type": "markdown",
   "metadata": {},
   "source": [
    "Range is the difference between the maximum and minimum values in a dataset, providing a measure of the spread or dispersion of the data."
   ]
  },
  {
   "cell_type": "code",
   "execution_count": 31,
   "metadata": {},
   "outputs": [
    {
     "name": "stdout",
     "output_type": "stream",
     "text": [
      "Range: 36543725\n"
     ]
    }
   ],
   "source": [
    "#range\n",
    "print(\"Range:\",state['Population'].max()-state['Population'].min())"
   ]
  },
  {
   "cell_type": "markdown",
   "metadata": {},
   "source": [
    "Standard deviation measures the dispersion or spread of data points from the mean; it's used to understand the variability within a dataset."
   ]
  },
  {
   "cell_type": "code",
   "execution_count": 32,
   "metadata": {},
   "outputs": [
    {
     "name": "stdout",
     "output_type": "stream",
     "text": [
      "Standard Deviation: 12105745.29585633\n"
     ]
    }
   ],
   "source": [
    "#standard deviation\n",
    "print(\"Standard Deviation:\", state['Population'].std())"
   ]
  },
  {
   "cell_type": "markdown",
   "metadata": {},
   "source": [
    "Variance measures the dispersion of data points around the mean, providing insight into the spread or variability of a dataset."
   ]
  },
  {
   "cell_type": "code",
   "execution_count": 33,
   "metadata": {},
   "outputs": [
    {
     "name": "stdout",
     "output_type": "stream",
     "text": [
      "Variance: 146549069168147.7\n"
     ]
    }
   ],
   "source": [
    "#variance\n",
    "print(\"Variance:\", state['Population'].var())"
   ]
  },
  {
   "cell_type": "markdown",
   "metadata": {},
   "source": [
    "Skewness measures the asymmetry of a probability distribution; it's used to understand the shape and symmetry of data distribution.\n",
    "WE can visualize skewness using histograms, density plots, or box plots, which show the distribution's asymmetry in terms of its tail direction and magnitude."
   ]
  },
  {
   "cell_type": "code",
   "execution_count": 34,
   "metadata": {},
   "outputs": [
    {
     "name": "stdout",
     "output_type": "stream",
     "text": [
      "Skewness: 2.678713709827244\n"
     ]
    }
   ],
   "source": [
    "#skewness\n",
    "print(\"Skewness:\", state['Population'].skew())"
   ]
  },
  {
   "cell_type": "markdown",
   "metadata": {},
   "source": [
    "Kurtosis measures the tailedness or peakedness of a probability distribution; it's used to understand the shape of a distribution's tails relative to the normal distribution.\n",
    "\n",
    "We can visualize kurtosis using a histogram or a kernel density plot to observe the distribution's shape, or using a boxplot to identify outliers and assess tail behavior"
   ]
  },
  {
   "cell_type": "code",
   "execution_count": 35,
   "metadata": {},
   "outputs": [
    {
     "name": "stdout",
     "output_type": "stream",
     "text": [
      "Kurtosis: 7.3755721047735445\n"
     ]
    }
   ],
   "source": [
    "#kurtosis\n",
    "print(\"Kurtosis:\", state['Population'].kurtosis())"
   ]
  },
  {
   "cell_type": "markdown",
   "metadata": {},
   "source": [
    "A percentile is a measure indicating the value below which a given percentage of observations in a group of observations falls, commonly used to understand the relative standing of an individual within a dataset or population."
   ]
  },
  {
   "cell_type": "code",
   "execution_count": 36,
   "metadata": {},
   "outputs": [
    {
     "name": "stdout",
     "output_type": "stream",
     "text": [
      "Percentile: 0.25    2411422.00\n",
      "0.50    4176916.50\n",
      "0.75    5369901.25\n",
      "Name: Population, dtype: float64\n"
     ]
    }
   ],
   "source": [
    "#percentile\n",
    "print(\"Percentile:\", state['Population'].quantile([0.25,0.5,0.75]))"
   ]
  },
  {
   "cell_type": "markdown",
   "metadata": {},
   "source": [
    "The interquartile range (IQR) is a measure of statistical dispersion, representing the range between the 25th and 75th percentiles of a dataset, often used to identify variability and outliers in data."
   ]
  },
  {
   "cell_type": "code",
   "execution_count": 37,
   "metadata": {},
   "outputs": [
    {
     "name": "stdout",
     "output_type": "stream",
     "text": [
      "Interquantile: 2958479.25\n"
     ]
    }
   ],
   "source": [
    "#Interquantile\n",
    "print(\"Interquantile:\", state['Population'].quantile(0.75)- state['Population'].quantile(0.25))"
   ]
  },
  {
   "cell_type": "markdown",
   "metadata": {},
   "source": [
    "Correlation measures the strength and direction of the linear relationship between two variables, useful for understanding how changes in one variable relate to changes in another."
   ]
  },
  {
   "cell_type": "code",
   "execution_count": 38,
   "metadata": {},
   "outputs": [
    {
     "name": "stdout",
     "output_type": "stream",
     "text": [
      "Correlation: -0.13369066206896454\n"
     ]
    }
   ],
   "source": [
    "#correlation\n",
    "print(\"Correlation:\", state['Population'].corr(state['Murder rate']))"
   ]
  },
  {
   "cell_type": "markdown",
   "metadata": {},
   "source": [
    "Covariance measures the degree to which two variables change together, indicating the direction of their linear relationship in a dataset. We use it to understand how changes in one variable correspond to changes in another variable."
   ]
  },
  {
   "cell_type": "code",
   "execution_count": 39,
   "metadata": {},
   "outputs": [
    {
     "name": "stdout",
     "output_type": "stream",
     "text": [
      "Covariance: -2186371.9178571403\n"
     ]
    }
   ],
   "source": [
    "#covariance\n",
    "print(\"Covariance:\", state['Population'].cov(state['Murder rate']))"
   ]
  },
  {
   "cell_type": "markdown",
   "metadata": {},
   "source": [
    "Creating a frequency table with binned population data allows us to understand the distribution of population across different intervals or ranges, providing insights into population density and patterns within the dataset."
   ]
  },
  {
   "cell_type": "code",
   "execution_count": 40,
   "metadata": {},
   "outputs": [
    {
     "name": "stdout",
     "output_type": "stream",
     "text": [
      "0      (4364603.5, 8018976.0]\n",
      "1     (673687.275, 4364603.5]\n",
      "2      (4364603.5, 8018976.0]\n",
      "3     (673687.275, 4364603.5]\n",
      "4    (33599583.5, 37253956.0]\n",
      "5      (4364603.5, 8018976.0]\n",
      "6     (673687.275, 4364603.5]\n",
      "7     (673687.275, 4364603.5]\n",
      "Name: Population, dtype: category\n",
      "Categories (10, interval[float64, right]): [(673687.275, 4364603.5] < (4364603.5, 8018976.0] < (8018976.0, 11673348.5] < (11673348.5, 15327721.0] ... (22636466.0, 26290838.5] < (26290838.5, 29945211.0] < (29945211.0, 33599583.5] < (33599583.5, 37253956.0]]\n",
      "Population\n",
      "(673687.275, 4364603.5]     4\n",
      "(4364603.5, 8018976.0]      3\n",
      "(33599583.5, 37253956.0]    1\n",
      "(8018976.0, 11673348.5]     0\n",
      "(11673348.5, 15327721.0]    0\n",
      "(15327721.0, 18982093.5]    0\n",
      "(18982093.5, 22636466.0]    0\n",
      "(22636466.0, 26290838.5]    0\n",
      "(26290838.5, 29945211.0]    0\n",
      "(29945211.0, 33599583.5]    0\n",
      "Name: count, dtype: int64\n"
     ]
    }
   ],
   "source": [
    "#Frequency table \n",
    "binnedpopulation = pd.cut(state['Population'], 10)\n",
    "print(binnedpopulation)\n",
    "print(binnedpopulation.value_counts())"
   ]
  },
  {
   "cell_type": "markdown",
   "metadata": {},
   "source": [
    "A boxplot is a visual representation of the distribution of data, showing the median, quartiles, and outliers. It's useful for comparing distributions and identifying outliers. Appropriate for visualizing continuous or ordinal data."
   ]
  },
  {
   "cell_type": "code",
   "execution_count": 41,
   "metadata": {},
   "outputs": [
    {
     "data": {
      "image/png": "[encoded data removed]",
      "text/plain": [
       "<Figure size 640x480 with 1 Axes>"
      ]
     },
     "metadata": {},
     "output_type": "display_data"
    }
   ],
   "source": [
    "#boxplot\n",
    "plt.boxplot(state['Population'])\n",
    "plt.show()"
   ]
  },
  {
   "cell_type": "markdown",
   "metadata": {},
   "source": [
    "A histogram is a graphical representation of the distribution of numerical data. It's used to visualize the frequency or probability distribution of a dataset. It's appropriate for continuous or discrete data, especially when exploring the distribution and frequency of values within a dataset."
   ]
  },
  {
   "cell_type": "code",
   "execution_count": 42,
   "metadata": {},
   "outputs": [
    {
     "data": {
      "image/png": "[encoded data removed]",
      "text/plain": [
       "<Figure size 640x480 with 1 Axes>"
      ]
     },
     "metadata": {},
     "output_type": "display_data"
    }
   ],
   "source": [
    "#histogram\n",
    "plt.hist(state['Population'])\n",
    "plt.show()"
   ]
  },
  {
   "cell_type": "markdown",
   "metadata": {},
   "source": [
    "A scatterplot is a type of data visualization that displays the relationship between two numerical variables, showing their individual data points on a Cartesian plane. It's used to identify patterns or correlations between variables. It's appropriate for continuous data and is particularly useful for detecting trends, clusters, or outliers within the data."
   ]
  },
  {
   "cell_type": "code",
   "execution_count": 43,
   "metadata": {},
   "outputs": [
    {
     "data": {
      "image/png": "[encoded data removed]",
      "text/plain": [
       "<Figure size 640x480 with 1 Axes>"
      ]
     },
     "metadata": {},
     "output_type": "display_data"
    }
   ],
   "source": [
    "#scatter plot\n",
    "plt.scatter(state['Population'],state['Murder rate'])\n",
    "plt.show()"
   ]
  },
  {
   "cell_type": "markdown",
   "metadata": {},
   "source": [
    "A pie plot is a circular statistical graphic that displays the proportional composition of a dataset, useful for showing relative sizes of categorical variables; it's appropriate for displaying data with distinct categories and their respective proportions."
   ]
  },
  {
   "cell_type": "code",
   "execution_count": 44,
   "metadata": {},
   "outputs": [
    {
     "data": {
      "image/png": "[encoded data removed]",
      "text/plain": [
       "<Figure size 640x480 with 1 Axes>"
      ]
     },
     "metadata": {},
     "output_type": "display_data"
    }
   ],
   "source": [
    "#pie chart\n",
    "plt.pie(state['Population'],labels=state['State'])\n",
    "plt.show()"
   ]
  }
 ],
 "metadata": {
  "kernelspec": {
   "display_name": "Python 3",
   "language": "python",
   "name": "python3"
  },
  "language_info": {
   "codemirror_mode": {
    "name": "ipython",
    "version": 3
   },
   "file_extension": ".py",
   "mimetype": "text/x-python",
   "name": "python",
   "nbconvert_exporter": "python",
   "pygments_lexer": "ipython3",
   "version": "3.12.3"
  }
 },
 "nbformat": 4,
 "nbformat_minor": 2
}
